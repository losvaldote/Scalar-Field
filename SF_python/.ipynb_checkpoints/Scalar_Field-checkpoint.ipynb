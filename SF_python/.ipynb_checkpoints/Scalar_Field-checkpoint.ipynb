{
 "cells": [
  {
   "cell_type": "markdown",
   "metadata": {},
   "source": [
    "# Scalar Fields en python."
   ]
  },
  {
   "cell_type": "code",
   "execution_count": 1,
   "metadata": {},
   "outputs": [],
   "source": [
    "%matplotlib inline\n",
    "\n",
    "import math                     #Funciones matemáticas\n",
    "import matplotlib.pyplot as plt #Para graficar\n",
    "import matplotlib as mpl        #Abreviación de matplotlib\n",
    "import numpy as np              #Para obtener soluciones numéricas "
   ]
  },
  {
   "cell_type": "code",
   "execution_count": 2,
   "metadata": {},
   "outputs": [],
   "source": [
    "#Vamos a definir algunas constantes útiles.\n",
    "NP = 500              #Número de puntos.\n",
    "Ni = math.log(1.0e-0) #Valor inicial para a.\n",
    "Nf = math.log(1.0e-6) #Valor final para a.\n",
    "d = (Nf - Ni)/NP      #Intervalo.\n",
    "c = 3.0/2.0           #Aún no sé para qué es.\n",
    "n = 7                 #Número de ecuaciones.\n",
    "p = 5                 #Número de parámetros de densidad.\n",
    "m = 8                 #Probablemente es la masa del campo escalar(Revisar).\n"
   ]
  },
  {
   "cell_type": "code",
   "execution_count": 4,
   "metadata": {},
   "outputs": [],
   "source": [
    "#Vamos a definir las función para el lado derecho de las ecuaciones.\n",
    "def rhs(x, i):\n",
    "    Pe=2.0*x[0]*x[0]+4.0*x[2]*x[2]/3.0+4.0*x[5]*x[5]/3.0+x[6]*x[6]    "
   ]
  },
  {
   "cell_type": "code",
   "execution_count": 9,
   "metadata": {},
   "outputs": [],
   "source": [
    "#Vamos a definir la Runge para obtener los primeros 4 valores y poder usar ABM\n",
    "def Runge(x):\n",
    "    A1 = np.array(n)\n",
    "    A2 = np.array(n)\n",
    "    A3 = np.array(n)\n",
    "    A4 = np.array(n)\n",
    "    k1 = np.array(n)\n",
    "    k2 = np.array(n)\n",
    "    k3 = np.array(n)\n",
    "    k4 = np.array(n)\n",
    "    \n",
    "    for j in range (0,n):\n",
    "        k1[j] =  d* rhs( x , j)\n",
    "        A1[j]= x[j]+ 0.5*(k1[j])\n",
    "    for j in range (0,n):\n",
    "        k2[j]=  d* rhs( A1, j)\n",
    "        A2[j]= x[j]+ 0.5*(k2[j])\n",
    "    for j in range (0,n):\n",
    "        k3[j]=  d* rhs( A2, j)\n",
    "        A3[j]= x[j]+     (k3[j])\n",
    "    for j in range (0,n):\n",
    "        k4[j]=  d* rhs( A3, j) \n",
    "    for j in range (0,n):\n",
    "        x[j]+= (k1[j]+2.0*k2[j]+2.0*k3[j]+k4[j])/6.0\n",
    "        \n",
    "    "
   ]
  },
  {
   "cell_type": "code",
   "execution_count": 10,
   "metadata": {},
   "outputs": [],
   "source": [
    "def ABM(k,x,f):\n",
    "    y = np.array(n)\n",
    "    for j in range (0,n):\n",
    "        y[j]= x[j]+ (55.0*f[j][k]-59.0*f[j][k-1]+37.0*f[j][k-2]-9.0*f[j][k-3])/24.0\n",
    "        \n",
    "    for j in range (0,n):\n",
    "        g[j][k+1]= d* rhs( y, j)\n",
    "    for j in range (0,n):\n",
    "        x[j]= x[j]+ (9.0*g[j][k+1]+19.0*f[j][k]-5.0*f[j][k-1]+f[j][k-2])/24.0\n",
    "    for j in range (0,n):\n",
    "        f[j][k+1]=d* rhs( x, j)\n",
    "    for j in range (0,n):\n",
    "         f[j][k-3]=f[j][k+1]  "
   ]
  },
  {
   "cell_type": "code",
   "execution_count": 11,
   "metadata": {},
   "outputs": [],
   "source": [
    "def Omegas(O,x):\n",
    "    O[0]=x[0]*x[0]\n",
    "    O[1]=x[2]*x[2]\n",
    "    O[2]=x[3]*x[3]\n",
    "    O[3]=x[5]*x[5]\n",
    "    O[4]=x[1]*x[1]\n",
    "    O[5]=O[0]+O[1]+O[2]+O[3]+O[4]\n",
    "    "
   ]
  },
  {
   "cell_type": "code",
   "execution_count": 13,
   "metadata": {},
   "outputs": [
    {
     "ename": "NameError",
     "evalue": "name 'sqrt' is not defined",
     "output_type": "error",
     "traceback": [
      "\u001b[0;31m---------------------------------------------------------------------------\u001b[0m",
      "\u001b[0;31mNameError\u001b[0m                                 Traceback (most recent call last)",
      "\u001b[0;32m<ipython-input-13-65d546bf4066>\u001b[0m in \u001b[0;36m<module>\u001b[0;34m()\u001b[0m\n\u001b[1;32m      1\u001b[0m \u001b[0;31m#Condiciones iniciales.\u001b[0m\u001b[0;34m\u001b[0m\u001b[0;34m\u001b[0m\u001b[0m\n\u001b[0;32m----> 2\u001b[0;31m \u001b[0mf\u001b[0m\u001b[0;34m[\u001b[0m\u001b[0;36m0\u001b[0m\u001b[0;34m]\u001b[0m\u001b[0;34m[\u001b[0m\u001b[0;36m0\u001b[0m\u001b[0;34m]\u001b[0m\u001b[0;34m=\u001b[0m\u001b[0mx\u001b[0m\u001b[0;34m[\u001b[0m\u001b[0;36m0\u001b[0m\u001b[0;34m]\u001b[0m\u001b[0;34m=\u001b[0m\u001b[0msqrt\u001b[0m\u001b[0;34m(\u001b[0m\u001b[0;36m0.2295\u001b[0m\u001b[0;34m)\u001b[0m         \u001b[0;31m#x velocidad\u001b[0m\u001b[0;34m\u001b[0m\u001b[0m\n\u001b[0m\u001b[1;32m      3\u001b[0m \u001b[0mf\u001b[0m\u001b[0;34m[\u001b[0m\u001b[0;36m1\u001b[0m\u001b[0;34m]\u001b[0m\u001b[0;34m[\u001b[0m\u001b[0;36m0\u001b[0m\u001b[0;34m]\u001b[0m\u001b[0;34m=\u001b[0m\u001b[0mx\u001b[0m\u001b[0;34m[\u001b[0m\u001b[0;36m1\u001b[0m\u001b[0;34m]\u001b[0m\u001b[0;34m=\u001b[0m\u001b[0msqrt\u001b[0m\u001b[0;34m(\u001b[0m\u001b[0;36m0.00043\u001b[0m\u001b[0;34m)\u001b[0m        \u001b[0;31m#u potencial\u001b[0m\u001b[0;34m\u001b[0m\u001b[0m\n\u001b[1;32m      4\u001b[0m \u001b[0mf\u001b[0m\u001b[0;34m[\u001b[0m\u001b[0;36m2\u001b[0m\u001b[0;34m]\u001b[0m\u001b[0;34m[\u001b[0m\u001b[0;36m0\u001b[0m\u001b[0;34m]\u001b[0m\u001b[0;34m=\u001b[0m\u001b[0mx\u001b[0m\u001b[0;34m[\u001b[0m\u001b[0;36m2\u001b[0m\u001b[0;34m]\u001b[0m\u001b[0;34m=\u001b[0m\u001b[0msqrt\u001b[0m\u001b[0;34m(\u001b[0m\u001b[0;36m0.000043\u001b[0m\u001b[0;34m)\u001b[0m        \u001b[0;31m#z radiación\u001b[0m\u001b[0;34m\u001b[0m\u001b[0m\n\u001b[1;32m      5\u001b[0m \u001b[0mf\u001b[0m\u001b[0;34m[\u001b[0m\u001b[0;36m3\u001b[0m\u001b[0;34m]\u001b[0m\u001b[0;34m[\u001b[0m\u001b[0;36m0\u001b[0m\u001b[0;34m]\u001b[0m\u001b[0;34m=\u001b[0m\u001b[0mx\u001b[0m\u001b[0;34m[\u001b[0m\u001b[0;36m3\u001b[0m\u001b[0;34m]\u001b[0m\u001b[0;34m=\u001b[0m\u001b[0msqrt\u001b[0m\u001b[0;34m(\u001b[0m\u001b[0;36m0.73\u001b[0m\u001b[0;34m)\u001b[0m           \u001b[0;31m#l energía oscura\u001b[0m\u001b[0;34m\u001b[0m\u001b[0m\n",
      "\u001b[0;31mNameError\u001b[0m: name 'sqrt' is not defined"
     ]
    }
   ],
   "source": [
    "#Condiciones iniciales.\n",
    "f[0][0]=x[0]=sqrt(0.2295)         #x velocidad\n",
    "f[1][0]=x[1]=sqrt(0.00043)        #u potencial\n",
    "f[2][0]=x[2]=sqrt(0.000043)        #z radiación\n",
    "f[3][0]=x[3]=sqrt(0.73)           #l energía oscura\n",
    "f[4][0]=x[4]=1.0e3                #s      \n",
    "f[5][0]=x[5]=sqrt(0.000027)       #n neutrinos\n",
    "f[6][0]=x[6]=sqrt(0.04)           #b bariones\n"
   ]
  },
  {
   "cell_type": "code",
   "execution_count": 41,
   "metadata": {},
   "outputs": [
    {
     "data": {
      "text/plain": [
       "<function __main__.rhs>"
      ]
     },
     "execution_count": 41,
     "metadata": {},
     "output_type": "execute_result"
    }
   ],
   "source": []
  },
  {
   "cell_type": "code",
   "execution_count": null,
   "metadata": {},
   "outputs": [],
   "source": []
  }
 ],
 "metadata": {
  "kernelspec": {
   "display_name": "Python 2",
   "language": "python",
   "name": "python2"
  },
  "language_info": {
   "codemirror_mode": {
    "name": "ipython",
    "version": 2
   },
   "file_extension": ".py",
   "mimetype": "text/x-python",
   "name": "python",
   "nbconvert_exporter": "python",
   "pygments_lexer": "ipython2",
   "version": "2.7.12"
  }
 },
 "nbformat": 4,
 "nbformat_minor": 2
}
